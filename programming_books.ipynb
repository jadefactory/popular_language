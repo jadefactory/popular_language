{
 "cells": [
  {
   "cell_type": "markdown",
   "id": "4613be5f",
   "metadata": {},
   "source": [
    "# 주제 : 프로그래밍 언어별 출판되는 책을 통해 인기있는 언어 찾기"
   ]
  },
  {
   "cell_type": "markdown",
   "id": "0e8aac06",
   "metadata": {},
   "source": [
    "---"
   ]
  },
  {
   "cell_type": "markdown",
   "id": "e09bd13a",
   "metadata": {},
   "source": [
    "## 1. 데이터 준비"
   ]
  },
  {
   "cell_type": "markdown",
   "id": "bc5a7aef",
   "metadata": {},
   "source": [
    "### 1-1. 필요한 모듈 불러오기"
   ]
  },
  {
   "cell_type": "code",
   "execution_count": 1,
   "id": "fb563189",
   "metadata": {},
   "outputs": [],
   "source": [
    "import os\n",
    "import sys\n",
    "import urllib.request\n",
    "import json \n",
    "import pandas as pd"
   ]
  },
  {
   "cell_type": "markdown",
   "id": "cbaab08b",
   "metadata": {},
   "source": [
    "### [ 문제 1번 ] 1-2. Naver Books API 호출을 통한 정보 수집 "
   ]
  },
  {
   "cell_type": "code",
   "execution_count": 2,
   "id": "4fff9779",
   "metadata": {},
   "outputs": [
    {
     "name": "stdout",
     "output_type": "stream",
     "text": [
      "env: CLIENT_ID=uAbavg012XaXAEn8gVKz\n",
      "env: CLIENT_SECRET=lMjPL4LlAk\n"
     ]
    }
   ],
   "source": [
    "%set_env CLIENT_ID = uAbavg012XaXAEn8gVKz\n",
    "%set_env CLIENT_SECRET = lMjPL4LlAk"
   ]
  },
  {
   "cell_type": "code",
   "execution_count": 3,
   "id": "ad77320c",
   "metadata": {},
   "outputs": [],
   "source": [
    "client_id = os.getenv('CLIENT_ID')\n",
    "client_secret = os.getenv('CLIENT_SECRET')"
   ]
  },
  {
   "cell_type": "code",
   "execution_count": 4,
   "id": "867d2ec1",
   "metadata": {},
   "outputs": [
    {
     "data": {
      "text/plain": [
       "'uAbavg012XaXAEn8gVKz'"
      ]
     },
     "execution_count": 4,
     "metadata": {},
     "output_type": "execute_result"
    }
   ],
   "source": [
    "client_id"
   ]
  },
  {
   "cell_type": "code",
   "execution_count": 5,
   "id": "5637e979",
   "metadata": {},
   "outputs": [],
   "source": [
    "# 검색 URL 생성 함수\n",
    "def gen_search_url(api_node, search_text, start_num, disp_num):\n",
    "    base = \"https://openapi.naver.com/v1/search\"\n",
    "    node = \"/\" + api_node + \".json\"\n",
    "    param_query = \"?query=\" + urllib.parse.quote(search_text)\n",
    "    param_start = \"&start=\" + str(start_num)\n",
    "    param_disp = \"&display=\" + str(disp_num)\n",
    "    \n",
    "    return base + node + param_query + param_start + param_disp"
   ]
  },
  {
   "cell_type": "code",
   "execution_count": 6,
   "id": "4b4be5c0",
   "metadata": {},
   "outputs": [],
   "source": [
    "# 검색 결과 수집 함수\n",
    "def get_result_onpage(url):\n",
    "    request = urllib.request.Request(url)\n",
    "    request.add_header(\"X-Naver-Client-Id\", client_id)\n",
    "    request.add_header(\"X-Naver-Client-Secret\", client_secret)\n",
    "    response = urllib.request.urlopen(request)\n",
    "\n",
    "    return json.loads(response.read().decode(\"utf-8\"))"
   ]
  },
  {
   "cell_type": "markdown",
   "id": "a7675974",
   "metadata": {},
   "source": [
    "### 1-3. 데이터 정제 및 데이터프레임 구성"
   ]
  },
  {
   "cell_type": "code",
   "execution_count": 7,
   "id": "c5dc7952",
   "metadata": {},
   "outputs": [],
   "source": [
    "# b태그 제거 함수\n",
    "def delete_tag(input_str):\n",
    "    input_str = input_str.replace(\"<b>\", \"\")\n",
    "    input_str = input_str.replace(\"</b>\", \"\")\n",
    "    \n",
    "    return input_str"
   ]
  },
  {
   "cell_type": "code",
   "execution_count": 8,
   "id": "9fd15b37",
   "metadata": {},
   "outputs": [],
   "source": [
    "# 판다스 데이터프레임 변환 함수\n",
    "def get_fields(json_data):\n",
    "    title = [delete_tag(each[\"title\"]) for each in json_data[\"items\"]]\n",
    "    author = [delete_tag(each[\"author\"]) for each in json_data[\"items\"]]\n",
    "    publisher = [delete_tag(each[\"publisher\"]) for each in json_data[\"items\"]]\n",
    "    pubdate = [each[\"pubdate\"] for each in json_data[\"items\"]]\n",
    "    isbn = [each[\"isbn\"] for each in json_data[\"items\"]]\n",
    "    \n",
    "    result_pd = pd.DataFrame({\n",
    "        \"제목\":title,\n",
    "        \"저자\":author,\n",
    "        \"출판사\":publisher,\n",
    "        \"출판일\": pubdate,\n",
    "        \"ISBN\":isbn\n",
    "    }, columns=[\"제목\", \"저자\", \"출판사\", \"출판일\", \"ISBN\"])\n",
    "    \n",
    "    return result_pd"
   ]
  },
  {
   "cell_type": "code",
   "execution_count": 9,
   "id": "83e25bbd",
   "metadata": {},
   "outputs": [],
   "source": [
    "df = pd.DataFrame({\n",
    "    \"제목\": [],\n",
    "    \"저자\": [],\n",
    "    \"출판사\": [],\n",
    "    \"출판일\": [],\n",
    "    \"ISBN\": [],\n",
    "    \"언어\":[]\n",
    "})"
   ]
  },
  {
   "cell_type": "code",
   "execution_count": 10,
   "id": "53874958",
   "metadata": {},
   "outputs": [],
   "source": [
    "# 데이터셋 구성 함수\n",
    "def make_dataset(language):\n",
    "    url = gen_search_url(\"book\", language, 1, 20)\n",
    "    one_result = get_result_onpage(url)\n",
    "    result = get_fields(one_result)\n",
    "    result[\"언어\"] = language\n",
    "    \n",
    "    return result"
   ]
  },
  {
   "cell_type": "code",
   "execution_count": 11,
   "id": "30a26d39",
   "metadata": {},
   "outputs": [],
   "source": [
    "arr = ['파이썬','Python','C언어','Java','C++','C#','Visual Basic','자바스크립트','SQL','PHP','R프로그래밍']\n",
    "\n",
    "for name in arr:\n",
    "    tmp = make_dataset(name)\n",
    "    df = pd.concat([df, tmp])"
   ]
  },
  {
   "cell_type": "code",
   "execution_count": 12,
   "id": "c92707f6",
   "metadata": {},
   "outputs": [
    {
     "data": {
      "text/html": [
       "<div>\n",
       "<style scoped>\n",
       "    .dataframe tbody tr th:only-of-type {\n",
       "        vertical-align: middle;\n",
       "    }\n",
       "\n",
       "    .dataframe tbody tr th {\n",
       "        vertical-align: top;\n",
       "    }\n",
       "\n",
       "    .dataframe thead th {\n",
       "        text-align: right;\n",
       "    }\n",
       "</style>\n",
       "<table border=\"1\" class=\"dataframe\">\n",
       "  <thead>\n",
       "    <tr style=\"text-align: right;\">\n",
       "      <th></th>\n",
       "      <th>제목</th>\n",
       "      <th>저자</th>\n",
       "      <th>출판사</th>\n",
       "      <th>출판일</th>\n",
       "      <th>ISBN</th>\n",
       "      <th>언어</th>\n",
       "    </tr>\n",
       "  </thead>\n",
       "  <tbody>\n",
       "    <tr>\n",
       "      <th>0</th>\n",
       "      <td>이것이 취업을 위한 코딩 테스트다 with 파이썬 (취업과 이직을 결정하는 알고리즘...</td>\n",
       "      <td>나동빈</td>\n",
       "      <td>한빛미디어</td>\n",
       "      <td>20200805</td>\n",
       "      <td>1162243074 9791162243077</td>\n",
       "      <td>파이썬</td>\n",
       "    </tr>\n",
       "    <tr>\n",
       "      <th>1</th>\n",
       "      <td>혼자 공부하는 파이썬 (파이썬 최신 버전 반영)</td>\n",
       "      <td>윤인성</td>\n",
       "      <td>한빛미디어</td>\n",
       "      <td>20190610</td>\n",
       "      <td>1162241888 9791162241882</td>\n",
       "      <td>파이썬</td>\n",
       "    </tr>\n",
       "    <tr>\n",
       "      <th>2</th>\n",
       "      <td>Do it! 점프 투 파이썬</td>\n",
       "      <td>박응용</td>\n",
       "      <td>이지스퍼블리싱</td>\n",
       "      <td>20190620</td>\n",
       "      <td>1163030910 9791163030911</td>\n",
       "      <td>파이썬</td>\n",
       "    </tr>\n",
       "    <tr>\n",
       "      <th>3</th>\n",
       "      <td>파이썬 알고리즘 인터뷰 (95가지 알고리즘 문제 풀이로 완성하는 코딩 테스트)</td>\n",
       "      <td>박상길</td>\n",
       "      <td>책만</td>\n",
       "      <td>20200715</td>\n",
       "      <td>1189909170 9791189909178</td>\n",
       "      <td>파이썬</td>\n",
       "    </tr>\n",
       "    <tr>\n",
       "      <th>4</th>\n",
       "      <td>파이썬 무작정 따라하기 (미래의 프로그래머를 위한)</td>\n",
       "      <td>송석리|서승희</td>\n",
       "      <td>길벗</td>\n",
       "      <td>20211220</td>\n",
       "      <td>1165217899 9791165217891</td>\n",
       "      <td>파이썬</td>\n",
       "    </tr>\n",
       "  </tbody>\n",
       "</table>\n",
       "</div>"
      ],
      "text/plain": [
       "                                                  제목       저자      출판사  \\\n",
       "0  이것이 취업을 위한 코딩 테스트다 with 파이썬 (취업과 이직을 결정하는 알고리즘...      나동빈    한빛미디어   \n",
       "1                         혼자 공부하는 파이썬 (파이썬 최신 버전 반영)      윤인성    한빛미디어   \n",
       "2                                    Do it! 점프 투 파이썬      박응용  이지스퍼블리싱   \n",
       "3        파이썬 알고리즘 인터뷰 (95가지 알고리즘 문제 풀이로 완성하는 코딩 테스트)      박상길       책만   \n",
       "4                       파이썬 무작정 따라하기 (미래의 프로그래머를 위한)  송석리|서승희       길벗   \n",
       "\n",
       "        출판일                      ISBN   언어  \n",
       "0  20200805  1162243074 9791162243077  파이썬  \n",
       "1  20190610  1162241888 9791162241882  파이썬  \n",
       "2  20190620  1163030910 9791163030911  파이썬  \n",
       "3  20200715  1189909170 9791189909178  파이썬  \n",
       "4  20211220  1165217899 9791165217891  파이썬  "
      ]
     },
     "execution_count": 12,
     "metadata": {},
     "output_type": "execute_result"
    }
   ],
   "source": [
    "df.head()"
   ]
  },
  {
   "cell_type": "code",
   "execution_count": 13,
   "id": "ca9f98c3",
   "metadata": {},
   "outputs": [
    {
     "data": {
      "text/html": [
       "<div>\n",
       "<style scoped>\n",
       "    .dataframe tbody tr th:only-of-type {\n",
       "        vertical-align: middle;\n",
       "    }\n",
       "\n",
       "    .dataframe tbody tr th {\n",
       "        vertical-align: top;\n",
       "    }\n",
       "\n",
       "    .dataframe thead th {\n",
       "        text-align: right;\n",
       "    }\n",
       "</style>\n",
       "<table border=\"1\" class=\"dataframe\">\n",
       "  <thead>\n",
       "    <tr style=\"text-align: right;\">\n",
       "      <th></th>\n",
       "      <th>제목</th>\n",
       "      <th>저자</th>\n",
       "      <th>출판사</th>\n",
       "      <th>출판일</th>\n",
       "      <th>ISBN</th>\n",
       "      <th>언어</th>\n",
       "    </tr>\n",
       "  </thead>\n",
       "  <tbody>\n",
       "    <tr>\n",
       "      <th>15</th>\n",
       "      <td>R 프로그래밍 및 그래픽스 실습</td>\n",
       "      <td>손영숙|전성현</td>\n",
       "      <td>자유아카데미</td>\n",
       "      <td>20180831</td>\n",
       "      <td>1158082002 9791158082000</td>\n",
       "      <td>R프로그래밍</td>\n",
       "    </tr>\n",
       "    <tr>\n",
       "      <th>16</th>\n",
       "      <td>R언어 프로그래밍 (컴퓨터 비정공자를 위한 빅데이터 활용의 시작)</td>\n",
       "      <td>박성호|문경희|양자영|이윤정|조미숙</td>\n",
       "      <td>부산대학교출판문화원</td>\n",
       "      <td>20210831</td>\n",
       "      <td>8973167197 9788973167197</td>\n",
       "      <td>R프로그래밍</td>\n",
       "    </tr>\n",
       "    <tr>\n",
       "      <th>17</th>\n",
       "      <td>R 프로그래밍 기초 &amp; 활용 (데이터 분석과 통계 프로그래밍을 위한)</td>\n",
       "      <td>래리 페이스</td>\n",
       "      <td>길벗</td>\n",
       "      <td>20130204</td>\n",
       "      <td>8966185231 9788966185238</td>\n",
       "      <td>R프로그래밍</td>\n",
       "    </tr>\n",
       "    <tr>\n",
       "      <th>18</th>\n",
       "      <td>R을 이용한 빅데이터 분석 및 활용 Part 1. R 프로그래밍과 데이터 시각화</td>\n",
       "      <td>허진경</td>\n",
       "      <td>퍼플</td>\n",
       "      <td>20171024</td>\n",
       "      <td>0000291986 1400000291986</td>\n",
       "      <td>R프로그래밍</td>\n",
       "    </tr>\n",
       "    <tr>\n",
       "      <th>19</th>\n",
       "      <td>효율적인 R 프로그래밍</td>\n",
       "      <td>로빈 러브 레이스</td>\n",
       "      <td>느린생각</td>\n",
       "      <td>20181101</td>\n",
       "      <td>1187139173 9791187139171</td>\n",
       "      <td>R프로그래밍</td>\n",
       "    </tr>\n",
       "  </tbody>\n",
       "</table>\n",
       "</div>"
      ],
      "text/plain": [
       "                                              제목                   저자  \\\n",
       "15                             R 프로그래밍 및 그래픽스 실습              손영숙|전성현   \n",
       "16          R언어 프로그래밍 (컴퓨터 비정공자를 위한 빅데이터 활용의 시작)  박성호|문경희|양자영|이윤정|조미숙   \n",
       "17        R 프로그래밍 기초 & 활용 (데이터 분석과 통계 프로그래밍을 위한)               래리 페이스   \n",
       "18  R을 이용한 빅데이터 분석 및 활용 Part 1. R 프로그래밍과 데이터 시각화                  허진경   \n",
       "19                                  효율적인 R 프로그래밍            로빈 러브 레이스   \n",
       "\n",
       "           출판사       출판일                      ISBN      언어  \n",
       "15      자유아카데미  20180831  1158082002 9791158082000  R프로그래밍  \n",
       "16  부산대학교출판문화원  20210831  8973167197 9788973167197  R프로그래밍  \n",
       "17          길벗  20130204  8966185231 9788966185238  R프로그래밍  \n",
       "18          퍼플  20171024  0000291986 1400000291986  R프로그래밍  \n",
       "19        느린생각  20181101  1187139173 9791187139171  R프로그래밍  "
      ]
     },
     "execution_count": 13,
     "metadata": {},
     "output_type": "execute_result"
    }
   ],
   "source": [
    "df.tail()"
   ]
  },
  {
   "cell_type": "code",
   "execution_count": 14,
   "id": "23a0a5ce",
   "metadata": {},
   "outputs": [
    {
     "data": {
      "text/plain": [
       "array(['파이썬', 'Python', 'C언어', 'Java', 'C++', 'C#', 'Visual Basic',\n",
       "       '자바스크립트', 'SQL', 'PHP', 'R프로그래밍'], dtype=object)"
      ]
     },
     "execution_count": 14,
     "metadata": {},
     "output_type": "execute_result"
    }
   ],
   "source": [
    "df[\"언어\"].unique()"
   ]
  },
  {
   "cell_type": "code",
   "execution_count": 15,
   "id": "a82fa669",
   "metadata": {},
   "outputs": [],
   "source": [
    "df.loc[df[\"언어\"] == \"파이썬\", \"언어\"] = \"Python\"\n",
    "df.loc[df[\"언어\"] == \"C언어\", \"언어\"] = \"C\"\n",
    "df.loc[df[\"언어\"] == \"자바스크립트\", \"언어\"] = \"JavaScript\"\n",
    "df.loc[df[\"언어\"] == \"R프로그래밍\", \"언어\"] = \"R\""
   ]
  },
  {
   "cell_type": "code",
   "execution_count": 16,
   "id": "0a69d1cc",
   "metadata": {},
   "outputs": [
    {
     "data": {
      "text/html": [
       "<div>\n",
       "<style scoped>\n",
       "    .dataframe tbody tr th:only-of-type {\n",
       "        vertical-align: middle;\n",
       "    }\n",
       "\n",
       "    .dataframe tbody tr th {\n",
       "        vertical-align: top;\n",
       "    }\n",
       "\n",
       "    .dataframe thead th {\n",
       "        text-align: right;\n",
       "    }\n",
       "</style>\n",
       "<table border=\"1\" class=\"dataframe\">\n",
       "  <thead>\n",
       "    <tr style=\"text-align: right;\">\n",
       "      <th></th>\n",
       "      <th>제목</th>\n",
       "      <th>저자</th>\n",
       "      <th>출판사</th>\n",
       "      <th>출판일</th>\n",
       "      <th>ISBN</th>\n",
       "      <th>언어</th>\n",
       "    </tr>\n",
       "  </thead>\n",
       "  <tbody>\n",
       "    <tr>\n",
       "      <th>0</th>\n",
       "      <td>이것이 취업을 위한 코딩 테스트다 with 파이썬 (취업과 이직을 결정하는 알고리즘...</td>\n",
       "      <td>나동빈</td>\n",
       "      <td>한빛미디어</td>\n",
       "      <td>20200805</td>\n",
       "      <td>1162243074 9791162243077</td>\n",
       "      <td>Python</td>\n",
       "    </tr>\n",
       "    <tr>\n",
       "      <th>1</th>\n",
       "      <td>혼자 공부하는 파이썬 (파이썬 최신 버전 반영)</td>\n",
       "      <td>윤인성</td>\n",
       "      <td>한빛미디어</td>\n",
       "      <td>20190610</td>\n",
       "      <td>1162241888 9791162241882</td>\n",
       "      <td>Python</td>\n",
       "    </tr>\n",
       "    <tr>\n",
       "      <th>2</th>\n",
       "      <td>Do it! 점프 투 파이썬</td>\n",
       "      <td>박응용</td>\n",
       "      <td>이지스퍼블리싱</td>\n",
       "      <td>20190620</td>\n",
       "      <td>1163030910 9791163030911</td>\n",
       "      <td>Python</td>\n",
       "    </tr>\n",
       "    <tr>\n",
       "      <th>3</th>\n",
       "      <td>파이썬 알고리즘 인터뷰 (95가지 알고리즘 문제 풀이로 완성하는 코딩 테스트)</td>\n",
       "      <td>박상길</td>\n",
       "      <td>책만</td>\n",
       "      <td>20200715</td>\n",
       "      <td>1189909170 9791189909178</td>\n",
       "      <td>Python</td>\n",
       "    </tr>\n",
       "    <tr>\n",
       "      <th>4</th>\n",
       "      <td>파이썬 무작정 따라하기 (미래의 프로그래머를 위한)</td>\n",
       "      <td>송석리|서승희</td>\n",
       "      <td>길벗</td>\n",
       "      <td>20211220</td>\n",
       "      <td>1165217899 9791165217891</td>\n",
       "      <td>Python</td>\n",
       "    </tr>\n",
       "  </tbody>\n",
       "</table>\n",
       "</div>"
      ],
      "text/plain": [
       "                                                  제목       저자      출판사  \\\n",
       "0  이것이 취업을 위한 코딩 테스트다 with 파이썬 (취업과 이직을 결정하는 알고리즘...      나동빈    한빛미디어   \n",
       "1                         혼자 공부하는 파이썬 (파이썬 최신 버전 반영)      윤인성    한빛미디어   \n",
       "2                                    Do it! 점프 투 파이썬      박응용  이지스퍼블리싱   \n",
       "3        파이썬 알고리즘 인터뷰 (95가지 알고리즘 문제 풀이로 완성하는 코딩 테스트)      박상길       책만   \n",
       "4                       파이썬 무작정 따라하기 (미래의 프로그래머를 위한)  송석리|서승희       길벗   \n",
       "\n",
       "        출판일                      ISBN      언어  \n",
       "0  20200805  1162243074 9791162243077  Python  \n",
       "1  20190610  1162241888 9791162241882  Python  \n",
       "2  20190620  1163030910 9791163030911  Python  \n",
       "3  20200715  1189909170 9791189909178  Python  \n",
       "4  20211220  1165217899 9791165217891  Python  "
      ]
     },
     "execution_count": 16,
     "metadata": {},
     "output_type": "execute_result"
    }
   ],
   "source": [
    "df.head()"
   ]
  },
  {
   "cell_type": "code",
   "execution_count": 17,
   "id": "d2be37db",
   "metadata": {},
   "outputs": [
    {
     "data": {
      "text/plain": [
       "array(['Python', 'C', 'Java', 'C++', 'C#', 'Visual Basic', 'JavaScript',\n",
       "       'SQL', 'PHP', 'R'], dtype=object)"
      ]
     },
     "execution_count": 17,
     "metadata": {},
     "output_type": "execute_result"
    }
   ],
   "source": [
    "df[\"언어\"].unique()"
   ]
  },
  {
   "cell_type": "code",
   "execution_count": 18,
   "id": "cee23bda",
   "metadata": {},
   "outputs": [
    {
     "data": {
      "text/html": [
       "<div>\n",
       "<style scoped>\n",
       "    .dataframe tbody tr th:only-of-type {\n",
       "        vertical-align: middle;\n",
       "    }\n",
       "\n",
       "    .dataframe tbody tr th {\n",
       "        vertical-align: top;\n",
       "    }\n",
       "\n",
       "    .dataframe thead th {\n",
       "        text-align: right;\n",
       "    }\n",
       "</style>\n",
       "<table border=\"1\" class=\"dataframe\">\n",
       "  <thead>\n",
       "    <tr style=\"text-align: right;\">\n",
       "      <th></th>\n",
       "      <th>제목</th>\n",
       "      <th>저자</th>\n",
       "      <th>출판사</th>\n",
       "      <th>출판일</th>\n",
       "      <th>ISBN</th>\n",
       "      <th>언어</th>\n",
       "    </tr>\n",
       "  </thead>\n",
       "  <tbody>\n",
       "    <tr>\n",
       "      <th>0</th>\n",
       "      <td>이것이 취업을 위한 코딩 테스트다 with 파이썬 (취업과 이직을 결정하는 알고리즘...</td>\n",
       "      <td>나동빈</td>\n",
       "      <td>한빛미디어</td>\n",
       "      <td>20200805</td>\n",
       "      <td>1162243074 9791162243077</td>\n",
       "      <td>Python</td>\n",
       "    </tr>\n",
       "    <tr>\n",
       "      <th>1</th>\n",
       "      <td>혼자 공부하는 파이썬 (파이썬 최신 버전 반영)</td>\n",
       "      <td>윤인성</td>\n",
       "      <td>한빛미디어</td>\n",
       "      <td>20190610</td>\n",
       "      <td>1162241888 9791162241882</td>\n",
       "      <td>Python</td>\n",
       "    </tr>\n",
       "    <tr>\n",
       "      <th>2</th>\n",
       "      <td>Do it! 점프 투 파이썬</td>\n",
       "      <td>박응용</td>\n",
       "      <td>이지스퍼블리싱</td>\n",
       "      <td>20190620</td>\n",
       "      <td>1163030910 9791163030911</td>\n",
       "      <td>Python</td>\n",
       "    </tr>\n",
       "    <tr>\n",
       "      <th>3</th>\n",
       "      <td>파이썬 알고리즘 인터뷰 (95가지 알고리즘 문제 풀이로 완성하는 코딩 테스트)</td>\n",
       "      <td>박상길</td>\n",
       "      <td>책만</td>\n",
       "      <td>20200715</td>\n",
       "      <td>1189909170 9791189909178</td>\n",
       "      <td>Python</td>\n",
       "    </tr>\n",
       "    <tr>\n",
       "      <th>4</th>\n",
       "      <td>파이썬 무작정 따라하기 (미래의 프로그래머를 위한)</td>\n",
       "      <td>송석리|서승희</td>\n",
       "      <td>길벗</td>\n",
       "      <td>20211220</td>\n",
       "      <td>1165217899 9791165217891</td>\n",
       "      <td>Python</td>\n",
       "    </tr>\n",
       "    <tr>\n",
       "      <th>...</th>\n",
       "      <td>...</td>\n",
       "      <td>...</td>\n",
       "      <td>...</td>\n",
       "      <td>...</td>\n",
       "      <td>...</td>\n",
       "      <td>...</td>\n",
       "    </tr>\n",
       "    <tr>\n",
       "      <th>215</th>\n",
       "      <td>R 프로그래밍 및 그래픽스 실습</td>\n",
       "      <td>손영숙|전성현</td>\n",
       "      <td>자유아카데미</td>\n",
       "      <td>20180831</td>\n",
       "      <td>1158082002 9791158082000</td>\n",
       "      <td>R</td>\n",
       "    </tr>\n",
       "    <tr>\n",
       "      <th>216</th>\n",
       "      <td>R언어 프로그래밍 (컴퓨터 비정공자를 위한 빅데이터 활용의 시작)</td>\n",
       "      <td>박성호|문경희|양자영|이윤정|조미숙</td>\n",
       "      <td>부산대학교출판문화원</td>\n",
       "      <td>20210831</td>\n",
       "      <td>8973167197 9788973167197</td>\n",
       "      <td>R</td>\n",
       "    </tr>\n",
       "    <tr>\n",
       "      <th>217</th>\n",
       "      <td>R 프로그래밍 기초 &amp; 활용 (데이터 분석과 통계 프로그래밍을 위한)</td>\n",
       "      <td>래리 페이스</td>\n",
       "      <td>길벗</td>\n",
       "      <td>20130204</td>\n",
       "      <td>8966185231 9788966185238</td>\n",
       "      <td>R</td>\n",
       "    </tr>\n",
       "    <tr>\n",
       "      <th>218</th>\n",
       "      <td>R을 이용한 빅데이터 분석 및 활용 Part 1. R 프로그래밍과 데이터 시각화</td>\n",
       "      <td>허진경</td>\n",
       "      <td>퍼플</td>\n",
       "      <td>20171024</td>\n",
       "      <td>0000291986 1400000291986</td>\n",
       "      <td>R</td>\n",
       "    </tr>\n",
       "    <tr>\n",
       "      <th>219</th>\n",
       "      <td>효율적인 R 프로그래밍</td>\n",
       "      <td>로빈 러브 레이스</td>\n",
       "      <td>느린생각</td>\n",
       "      <td>20181101</td>\n",
       "      <td>1187139173 9791187139171</td>\n",
       "      <td>R</td>\n",
       "    </tr>\n",
       "  </tbody>\n",
       "</table>\n",
       "<p>220 rows × 6 columns</p>\n",
       "</div>"
      ],
      "text/plain": [
       "                                                    제목                   저자  \\\n",
       "0    이것이 취업을 위한 코딩 테스트다 with 파이썬 (취업과 이직을 결정하는 알고리즘...                  나동빈   \n",
       "1                           혼자 공부하는 파이썬 (파이썬 최신 버전 반영)                  윤인성   \n",
       "2                                      Do it! 점프 투 파이썬                  박응용   \n",
       "3          파이썬 알고리즘 인터뷰 (95가지 알고리즘 문제 풀이로 완성하는 코딩 테스트)                  박상길   \n",
       "4                         파이썬 무작정 따라하기 (미래의 프로그래머를 위한)              송석리|서승희   \n",
       "..                                                 ...                  ...   \n",
       "215                                  R 프로그래밍 및 그래픽스 실습              손영숙|전성현   \n",
       "216               R언어 프로그래밍 (컴퓨터 비정공자를 위한 빅데이터 활용의 시작)  박성호|문경희|양자영|이윤정|조미숙   \n",
       "217             R 프로그래밍 기초 & 활용 (데이터 분석과 통계 프로그래밍을 위한)               래리 페이스   \n",
       "218       R을 이용한 빅데이터 분석 및 활용 Part 1. R 프로그래밍과 데이터 시각화                  허진경   \n",
       "219                                       효율적인 R 프로그래밍            로빈 러브 레이스   \n",
       "\n",
       "            출판사       출판일                      ISBN      언어  \n",
       "0         한빛미디어  20200805  1162243074 9791162243077  Python  \n",
       "1         한빛미디어  20190610  1162241888 9791162241882  Python  \n",
       "2       이지스퍼블리싱  20190620  1163030910 9791163030911  Python  \n",
       "3            책만  20200715  1189909170 9791189909178  Python  \n",
       "4            길벗  20211220  1165217899 9791165217891  Python  \n",
       "..          ...       ...                       ...     ...  \n",
       "215      자유아카데미  20180831  1158082002 9791158082000       R  \n",
       "216  부산대학교출판문화원  20210831  8973167197 9788973167197       R  \n",
       "217          길벗  20130204  8966185231 9788966185238       R  \n",
       "218          퍼플  20171024  0000291986 1400000291986       R  \n",
       "219        느린생각  20181101  1187139173 9791187139171       R  \n",
       "\n",
       "[220 rows x 6 columns]"
      ]
     },
     "execution_count": 18,
     "metadata": {},
     "output_type": "execute_result"
    }
   ],
   "source": [
    "df = df.reset_index(drop=True)\n",
    "df"
   ]
  },
  {
   "cell_type": "markdown",
   "id": "43dd72da",
   "metadata": {},
   "source": [
    "###  [ 문제 2번 ] 1-4. 중복 데이터 제거"
   ]
  },
  {
   "cell_type": "code",
   "execution_count": 19,
   "id": "3b191d22",
   "metadata": {},
   "outputs": [
    {
     "data": {
      "text/plain": [
       "217"
      ]
     },
     "execution_count": 19,
     "metadata": {},
     "output_type": "execute_result"
    }
   ],
   "source": [
    "len(df[\"ISBN\"].unique())"
   ]
  },
  {
   "cell_type": "code",
   "execution_count": 20,
   "id": "c8b7e677",
   "metadata": {},
   "outputs": [],
   "source": [
    "df.drop_duplicates(subset='ISBN', keep='first', inplace=True, ignore_index=False)"
   ]
  },
  {
   "cell_type": "code",
   "execution_count": 21,
   "id": "bf8f0cb5",
   "metadata": {},
   "outputs": [
    {
     "data": {
      "text/html": [
       "<div>\n",
       "<style scoped>\n",
       "    .dataframe tbody tr th:only-of-type {\n",
       "        vertical-align: middle;\n",
       "    }\n",
       "\n",
       "    .dataframe tbody tr th {\n",
       "        vertical-align: top;\n",
       "    }\n",
       "\n",
       "    .dataframe thead th {\n",
       "        text-align: right;\n",
       "    }\n",
       "</style>\n",
       "<table border=\"1\" class=\"dataframe\">\n",
       "  <thead>\n",
       "    <tr style=\"text-align: right;\">\n",
       "      <th></th>\n",
       "      <th>제목</th>\n",
       "      <th>저자</th>\n",
       "      <th>출판사</th>\n",
       "      <th>출판일</th>\n",
       "      <th>ISBN</th>\n",
       "      <th>언어</th>\n",
       "    </tr>\n",
       "  </thead>\n",
       "  <tbody>\n",
       "    <tr>\n",
       "      <th>0</th>\n",
       "      <td>이것이 취업을 위한 코딩 테스트다 with 파이썬 (취업과 이직을 결정하는 알고리즘...</td>\n",
       "      <td>나동빈</td>\n",
       "      <td>한빛미디어</td>\n",
       "      <td>20200805</td>\n",
       "      <td>1162243074 9791162243077</td>\n",
       "      <td>Python</td>\n",
       "    </tr>\n",
       "    <tr>\n",
       "      <th>1</th>\n",
       "      <td>혼자 공부하는 파이썬 (파이썬 최신 버전 반영)</td>\n",
       "      <td>윤인성</td>\n",
       "      <td>한빛미디어</td>\n",
       "      <td>20190610</td>\n",
       "      <td>1162241888 9791162241882</td>\n",
       "      <td>Python</td>\n",
       "    </tr>\n",
       "    <tr>\n",
       "      <th>2</th>\n",
       "      <td>Do it! 점프 투 파이썬</td>\n",
       "      <td>박응용</td>\n",
       "      <td>이지스퍼블리싱</td>\n",
       "      <td>20190620</td>\n",
       "      <td>1163030910 9791163030911</td>\n",
       "      <td>Python</td>\n",
       "    </tr>\n",
       "    <tr>\n",
       "      <th>3</th>\n",
       "      <td>파이썬 알고리즘 인터뷰 (95가지 알고리즘 문제 풀이로 완성하는 코딩 테스트)</td>\n",
       "      <td>박상길</td>\n",
       "      <td>책만</td>\n",
       "      <td>20200715</td>\n",
       "      <td>1189909170 9791189909178</td>\n",
       "      <td>Python</td>\n",
       "    </tr>\n",
       "    <tr>\n",
       "      <th>4</th>\n",
       "      <td>파이썬 무작정 따라하기 (미래의 프로그래머를 위한)</td>\n",
       "      <td>송석리|서승희</td>\n",
       "      <td>길벗</td>\n",
       "      <td>20211220</td>\n",
       "      <td>1165217899 9791165217891</td>\n",
       "      <td>Python</td>\n",
       "    </tr>\n",
       "    <tr>\n",
       "      <th>...</th>\n",
       "      <td>...</td>\n",
       "      <td>...</td>\n",
       "      <td>...</td>\n",
       "      <td>...</td>\n",
       "      <td>...</td>\n",
       "      <td>...</td>\n",
       "    </tr>\n",
       "    <tr>\n",
       "      <th>212</th>\n",
       "      <td>R 프로그래밍 및 그래픽스 실습</td>\n",
       "      <td>손영숙|전성현</td>\n",
       "      <td>자유아카데미</td>\n",
       "      <td>20180831</td>\n",
       "      <td>1158082002 9791158082000</td>\n",
       "      <td>R</td>\n",
       "    </tr>\n",
       "    <tr>\n",
       "      <th>213</th>\n",
       "      <td>R언어 프로그래밍 (컴퓨터 비정공자를 위한 빅데이터 활용의 시작)</td>\n",
       "      <td>박성호|문경희|양자영|이윤정|조미숙</td>\n",
       "      <td>부산대학교출판문화원</td>\n",
       "      <td>20210831</td>\n",
       "      <td>8973167197 9788973167197</td>\n",
       "      <td>R</td>\n",
       "    </tr>\n",
       "    <tr>\n",
       "      <th>214</th>\n",
       "      <td>R 프로그래밍 기초 &amp; 활용 (데이터 분석과 통계 프로그래밍을 위한)</td>\n",
       "      <td>래리 페이스</td>\n",
       "      <td>길벗</td>\n",
       "      <td>20130204</td>\n",
       "      <td>8966185231 9788966185238</td>\n",
       "      <td>R</td>\n",
       "    </tr>\n",
       "    <tr>\n",
       "      <th>215</th>\n",
       "      <td>R을 이용한 빅데이터 분석 및 활용 Part 1. R 프로그래밍과 데이터 시각화</td>\n",
       "      <td>허진경</td>\n",
       "      <td>퍼플</td>\n",
       "      <td>20171024</td>\n",
       "      <td>0000291986 1400000291986</td>\n",
       "      <td>R</td>\n",
       "    </tr>\n",
       "    <tr>\n",
       "      <th>216</th>\n",
       "      <td>효율적인 R 프로그래밍</td>\n",
       "      <td>로빈 러브 레이스</td>\n",
       "      <td>느린생각</td>\n",
       "      <td>20181101</td>\n",
       "      <td>1187139173 9791187139171</td>\n",
       "      <td>R</td>\n",
       "    </tr>\n",
       "  </tbody>\n",
       "</table>\n",
       "<p>217 rows × 6 columns</p>\n",
       "</div>"
      ],
      "text/plain": [
       "                                                    제목                   저자  \\\n",
       "0    이것이 취업을 위한 코딩 테스트다 with 파이썬 (취업과 이직을 결정하는 알고리즘...                  나동빈   \n",
       "1                           혼자 공부하는 파이썬 (파이썬 최신 버전 반영)                  윤인성   \n",
       "2                                      Do it! 점프 투 파이썬                  박응용   \n",
       "3          파이썬 알고리즘 인터뷰 (95가지 알고리즘 문제 풀이로 완성하는 코딩 테스트)                  박상길   \n",
       "4                         파이썬 무작정 따라하기 (미래의 프로그래머를 위한)              송석리|서승희   \n",
       "..                                                 ...                  ...   \n",
       "212                                  R 프로그래밍 및 그래픽스 실습              손영숙|전성현   \n",
       "213               R언어 프로그래밍 (컴퓨터 비정공자를 위한 빅데이터 활용의 시작)  박성호|문경희|양자영|이윤정|조미숙   \n",
       "214             R 프로그래밍 기초 & 활용 (데이터 분석과 통계 프로그래밍을 위한)               래리 페이스   \n",
       "215       R을 이용한 빅데이터 분석 및 활용 Part 1. R 프로그래밍과 데이터 시각화                  허진경   \n",
       "216                                       효율적인 R 프로그래밍            로빈 러브 레이스   \n",
       "\n",
       "            출판사       출판일                      ISBN      언어  \n",
       "0         한빛미디어  20200805  1162243074 9791162243077  Python  \n",
       "1         한빛미디어  20190610  1162241888 9791162241882  Python  \n",
       "2       이지스퍼블리싱  20190620  1163030910 9791163030911  Python  \n",
       "3            책만  20200715  1189909170 9791189909178  Python  \n",
       "4            길벗  20211220  1165217899 9791165217891  Python  \n",
       "..          ...       ...                       ...     ...  \n",
       "212      자유아카데미  20180831  1158082002 9791158082000       R  \n",
       "213  부산대학교출판문화원  20210831  8973167197 9788973167197       R  \n",
       "214          길벗  20130204  8966185231 9788966185238       R  \n",
       "215          퍼플  20171024  0000291986 1400000291986       R  \n",
       "216        느린생각  20181101  1187139173 9791187139171       R  \n",
       "\n",
       "[217 rows x 6 columns]"
      ]
     },
     "execution_count": 21,
     "metadata": {},
     "output_type": "execute_result"
    }
   ],
   "source": [
    "df = df.reset_index(drop=True)\n",
    "df"
   ]
  },
  {
   "cell_type": "markdown",
   "id": "d2b7141d",
   "metadata": {},
   "source": [
    "## [ 문제 3번 ] 2. 데이터 시각화"
   ]
  },
  {
   "cell_type": "code",
   "execution_count": 22,
   "id": "1dbfb72e",
   "metadata": {},
   "outputs": [
    {
     "data": {
      "text/plain": [
       "[1433, 16036, 16643, 7930, 3541, 8454, 2040, 10405, 17946, 583]"
      ]
     },
     "execution_count": 22,
     "metadata": {},
     "output_type": "execute_result"
    }
   ],
   "source": [
    "language = ['파이썬', 'C언어', 'Java', 'C++', 'C#', 'Visual Basic','자바스크립트', 'SQL', 'PHP', 'R프로그래밍']\n",
    "book_category = ['Python', 'C', 'Java', 'C++', 'C#', 'Visual Basic','JavaScript', 'SQL', 'PHP', 'R']\n",
    "book_count = []\n",
    "\n",
    "def count_books(language):\n",
    "    url = gen_search_url(\"book\", language, 1, 20)\n",
    "    one_result = get_result_onpage(url)\n",
    "    book_count.append(one_result[\"total\"])\n",
    "\n",
    "for name in language:\n",
    "    count_books(name)\n",
    "    \n",
    "book_count"
   ]
  },
  {
   "cell_type": "code",
   "execution_count": 23,
   "id": "a98e3c6e",
   "metadata": {},
   "outputs": [
    {
     "data": {
      "text/html": [
       "<div>\n",
       "<style scoped>\n",
       "    .dataframe tbody tr th:only-of-type {\n",
       "        vertical-align: middle;\n",
       "    }\n",
       "\n",
       "    .dataframe tbody tr th {\n",
       "        vertical-align: top;\n",
       "    }\n",
       "\n",
       "    .dataframe thead th {\n",
       "        text-align: right;\n",
       "    }\n",
       "</style>\n",
       "<table border=\"1\" class=\"dataframe\">\n",
       "  <thead>\n",
       "    <tr style=\"text-align: right;\">\n",
       "      <th></th>\n",
       "      <th>언어</th>\n",
       "      <th>출판물 수</th>\n",
       "    </tr>\n",
       "  </thead>\n",
       "  <tbody>\n",
       "    <tr>\n",
       "      <th>0</th>\n",
       "      <td>Python</td>\n",
       "      <td>1433</td>\n",
       "    </tr>\n",
       "    <tr>\n",
       "      <th>1</th>\n",
       "      <td>C</td>\n",
       "      <td>16036</td>\n",
       "    </tr>\n",
       "    <tr>\n",
       "      <th>2</th>\n",
       "      <td>Java</td>\n",
       "      <td>16643</td>\n",
       "    </tr>\n",
       "    <tr>\n",
       "      <th>3</th>\n",
       "      <td>C++</td>\n",
       "      <td>7930</td>\n",
       "    </tr>\n",
       "    <tr>\n",
       "      <th>4</th>\n",
       "      <td>C#</td>\n",
       "      <td>3541</td>\n",
       "    </tr>\n",
       "    <tr>\n",
       "      <th>5</th>\n",
       "      <td>Visual Basic</td>\n",
       "      <td>8454</td>\n",
       "    </tr>\n",
       "    <tr>\n",
       "      <th>6</th>\n",
       "      <td>JavaScript</td>\n",
       "      <td>2040</td>\n",
       "    </tr>\n",
       "    <tr>\n",
       "      <th>7</th>\n",
       "      <td>SQL</td>\n",
       "      <td>10405</td>\n",
       "    </tr>\n",
       "    <tr>\n",
       "      <th>8</th>\n",
       "      <td>PHP</td>\n",
       "      <td>17946</td>\n",
       "    </tr>\n",
       "    <tr>\n",
       "      <th>9</th>\n",
       "      <td>R</td>\n",
       "      <td>583</td>\n",
       "    </tr>\n",
       "  </tbody>\n",
       "</table>\n",
       "</div>"
      ],
      "text/plain": [
       "             언어  출판물 수\n",
       "0        Python   1433\n",
       "1             C  16036\n",
       "2          Java  16643\n",
       "3           C++   7930\n",
       "4            C#   3541\n",
       "5  Visual Basic   8454\n",
       "6    JavaScript   2040\n",
       "7           SQL  10405\n",
       "8           PHP  17946\n",
       "9             R    583"
      ]
     },
     "execution_count": 23,
     "metadata": {},
     "output_type": "execute_result"
    }
   ],
   "source": [
    "df_book_count = pd.DataFrame(list(zip(book_category,book_count)), columns = ['언어','출판물 수'])\n",
    "df_book_count"
   ]
  },
  {
   "cell_type": "markdown",
   "id": "7176af73",
   "metadata": {},
   "source": [
    "### 2-1. 각 언어별 출판물 순위"
   ]
  },
  {
   "cell_type": "code",
   "execution_count": 24,
   "id": "358e413c",
   "metadata": {
    "scrolled": true
   },
   "outputs": [
    {
     "data": {
      "text/html": [
       "<div>\n",
       "<style scoped>\n",
       "    .dataframe tbody tr th:only-of-type {\n",
       "        vertical-align: middle;\n",
       "    }\n",
       "\n",
       "    .dataframe tbody tr th {\n",
       "        vertical-align: top;\n",
       "    }\n",
       "\n",
       "    .dataframe thead th {\n",
       "        text-align: right;\n",
       "    }\n",
       "</style>\n",
       "<table border=\"1\" class=\"dataframe\">\n",
       "  <thead>\n",
       "    <tr style=\"text-align: right;\">\n",
       "      <th></th>\n",
       "      <th>언어</th>\n",
       "      <th>출판물 수</th>\n",
       "    </tr>\n",
       "  </thead>\n",
       "  <tbody>\n",
       "    <tr>\n",
       "      <th>1</th>\n",
       "      <td>PHP</td>\n",
       "      <td>17946</td>\n",
       "    </tr>\n",
       "    <tr>\n",
       "      <th>2</th>\n",
       "      <td>Java</td>\n",
       "      <td>16643</td>\n",
       "    </tr>\n",
       "    <tr>\n",
       "      <th>3</th>\n",
       "      <td>C</td>\n",
       "      <td>16036</td>\n",
       "    </tr>\n",
       "    <tr>\n",
       "      <th>4</th>\n",
       "      <td>SQL</td>\n",
       "      <td>10405</td>\n",
       "    </tr>\n",
       "    <tr>\n",
       "      <th>5</th>\n",
       "      <td>Visual Basic</td>\n",
       "      <td>8454</td>\n",
       "    </tr>\n",
       "    <tr>\n",
       "      <th>6</th>\n",
       "      <td>C++</td>\n",
       "      <td>7930</td>\n",
       "    </tr>\n",
       "    <tr>\n",
       "      <th>7</th>\n",
       "      <td>C#</td>\n",
       "      <td>3541</td>\n",
       "    </tr>\n",
       "    <tr>\n",
       "      <th>8</th>\n",
       "      <td>JavaScript</td>\n",
       "      <td>2040</td>\n",
       "    </tr>\n",
       "    <tr>\n",
       "      <th>9</th>\n",
       "      <td>Python</td>\n",
       "      <td>1433</td>\n",
       "    </tr>\n",
       "    <tr>\n",
       "      <th>10</th>\n",
       "      <td>R</td>\n",
       "      <td>583</td>\n",
       "    </tr>\n",
       "  </tbody>\n",
       "</table>\n",
       "</div>"
      ],
      "text/plain": [
       "              언어  출판물 수\n",
       "1            PHP  17946\n",
       "2           Java  16643\n",
       "3              C  16036\n",
       "4            SQL  10405\n",
       "5   Visual Basic   8454\n",
       "6            C++   7930\n",
       "7             C#   3541\n",
       "8     JavaScript   2040\n",
       "9         Python   1433\n",
       "10             R    583"
      ]
     },
     "execution_count": 24,
     "metadata": {},
     "output_type": "execute_result"
    }
   ],
   "source": [
    "df_book_sorted = df_book_count.sort_values('출판물 수', ascending=False).copy()\n",
    "df_book_sorted = df_book_sorted.reset_index(drop=True)\n",
    "df_book_sorted.index = df_book_sorted.index+1\n",
    "df_book_sorted"
   ]
  },
  {
   "cell_type": "markdown",
   "id": "ee7e315b",
   "metadata": {},
   "source": [
    "### 2-2. 출판물 순위 시각화"
   ]
  },
  {
   "cell_type": "code",
   "execution_count": 25,
   "id": "a81d0a07",
   "metadata": {},
   "outputs": [],
   "source": [
    "import seaborn as sns\n",
    "import matplotlib.pyplot as plt\n",
    "from matplotlib import rc\n",
    "\n",
    "rc('font', family=\"Arial Unicode MS\")\n",
    "get_ipython().run_line_magic('matplotlib', 'inline')"
   ]
  },
  {
   "cell_type": "code",
   "execution_count": 26,
   "id": "a9a869d6",
   "metadata": {},
   "outputs": [
    {
     "data": {
      "text/plain": [
       "<AxesSubplot:xlabel='언어', ylabel='출판물 수'>"
      ]
     },
     "execution_count": 26,
     "metadata": {},
     "output_type": "execute_result"
    },
    {
     "data": {
      "image/png": "[encoded data removed]",
      "text/plain": [
       "<Figure size 1080x432 with 1 Axes>"
      ]
     },
     "metadata": {
      "needs_background": "light"
     },
     "output_type": "display_data"
    }
   ],
   "source": [
    "plt.figure(figsize=(15,6))\n",
    "sns.barplot(data=df_book_sorted, x='언어', y='출판물 수', palette=\"RdYlGn\")"
   ]
  },
  {
   "cell_type": "code",
   "execution_count": 27,
   "id": "07996236",
   "metadata": {},
   "outputs": [
    {
     "data": {
      "text/html": [
       "<div>\n",
       "<style scoped>\n",
       "    .dataframe tbody tr th:only-of-type {\n",
       "        vertical-align: middle;\n",
       "    }\n",
       "\n",
       "    .dataframe tbody tr th {\n",
       "        vertical-align: top;\n",
       "    }\n",
       "\n",
       "    .dataframe thead th {\n",
       "        text-align: right;\n",
       "    }\n",
       "</style>\n",
       "<table border=\"1\" class=\"dataframe\">\n",
       "  <thead>\n",
       "    <tr style=\"text-align: right;\">\n",
       "      <th></th>\n",
       "      <th>제목</th>\n",
       "      <th>저자</th>\n",
       "      <th>출판사</th>\n",
       "      <th>출판일</th>\n",
       "      <th>ISBN</th>\n",
       "      <th>언어</th>\n",
       "    </tr>\n",
       "  </thead>\n",
       "  <tbody>\n",
       "    <tr>\n",
       "      <th>0</th>\n",
       "      <td>이것이 취업을 위한 코딩 테스트다 with 파이썬 (취업과 이직을 결정하는 알고리즘...</td>\n",
       "      <td>나동빈</td>\n",
       "      <td>한빛미디어</td>\n",
       "      <td>20200805</td>\n",
       "      <td>1162243074 9791162243077</td>\n",
       "      <td>Python</td>\n",
       "    </tr>\n",
       "    <tr>\n",
       "      <th>1</th>\n",
       "      <td>혼자 공부하는 파이썬 (파이썬 최신 버전 반영)</td>\n",
       "      <td>윤인성</td>\n",
       "      <td>한빛미디어</td>\n",
       "      <td>20190610</td>\n",
       "      <td>1162241888 9791162241882</td>\n",
       "      <td>Python</td>\n",
       "    </tr>\n",
       "    <tr>\n",
       "      <th>2</th>\n",
       "      <td>Do it! 점프 투 파이썬</td>\n",
       "      <td>박응용</td>\n",
       "      <td>이지스퍼블리싱</td>\n",
       "      <td>20190620</td>\n",
       "      <td>1163030910 9791163030911</td>\n",
       "      <td>Python</td>\n",
       "    </tr>\n",
       "    <tr>\n",
       "      <th>3</th>\n",
       "      <td>파이썬 알고리즘 인터뷰 (95가지 알고리즘 문제 풀이로 완성하는 코딩 테스트)</td>\n",
       "      <td>박상길</td>\n",
       "      <td>책만</td>\n",
       "      <td>20200715</td>\n",
       "      <td>1189909170 9791189909178</td>\n",
       "      <td>Python</td>\n",
       "    </tr>\n",
       "    <tr>\n",
       "      <th>4</th>\n",
       "      <td>파이썬 무작정 따라하기 (미래의 프로그래머를 위한)</td>\n",
       "      <td>송석리|서승희</td>\n",
       "      <td>길벗</td>\n",
       "      <td>20211220</td>\n",
       "      <td>1165217899 9791165217891</td>\n",
       "      <td>Python</td>\n",
       "    </tr>\n",
       "  </tbody>\n",
       "</table>\n",
       "</div>"
      ],
      "text/plain": [
       "                                                  제목       저자      출판사  \\\n",
       "0  이것이 취업을 위한 코딩 테스트다 with 파이썬 (취업과 이직을 결정하는 알고리즘...      나동빈    한빛미디어   \n",
       "1                         혼자 공부하는 파이썬 (파이썬 최신 버전 반영)      윤인성    한빛미디어   \n",
       "2                                    Do it! 점프 투 파이썬      박응용  이지스퍼블리싱   \n",
       "3        파이썬 알고리즘 인터뷰 (95가지 알고리즘 문제 풀이로 완성하는 코딩 테스트)      박상길       책만   \n",
       "4                       파이썬 무작정 따라하기 (미래의 프로그래머를 위한)  송석리|서승희       길벗   \n",
       "\n",
       "        출판일                      ISBN      언어  \n",
       "0  20200805  1162243074 9791162243077  Python  \n",
       "1  20190610  1162241888 9791162241882  Python  \n",
       "2  20190620  1163030910 9791163030911  Python  \n",
       "3  20200715  1189909170 9791189909178  Python  \n",
       "4  20211220  1165217899 9791165217891  Python  "
      ]
     },
     "execution_count": 27,
     "metadata": {},
     "output_type": "execute_result"
    }
   ],
   "source": [
    "df.head()"
   ]
  },
  {
   "cell_type": "markdown",
   "id": "0cdc08d8",
   "metadata": {},
   "source": [
    "### [ 문제 4번 ] 2-3. 우리나라의 컴퓨터 언어 관련 출판사 순위 확인"
   ]
  },
  {
   "cell_type": "code",
   "execution_count": 28,
   "id": "80abf451",
   "metadata": {
    "scrolled": true
   },
   "outputs": [
    {
     "data": {
      "text/plain": [
       "array(['한빛미디어', '이지스퍼블리싱', '책만', '길벗', '위키북스', '파이스탁', '비제이퍼블릭', '가메',\n",
       "       '영진닷컴', 'McGraw-HillEducation', '성안당', 'Apress', '청람', '보국출판사',\n",
       "       \"O'ReillyMedia\", '제이펍', '인피니티북스', 'fabiogasparella', 'Springer',\n",
       "       'AuerbachPublications', 'PacktPublishingLimited', '秀和システム', '북넷',\n",
       "       '翔泳社', '생능출판', '복두출판사', '삼양미디어', '휴먼싸이언스', '디지털북스', '도우출판', '프리렉',\n",
       "       '부산대학교출판문화원', '광문각', '생능출판사', '인사이트', '오렌지미디어',\n",
       "       'SpringerFachmedienWiesbaden', '이한미디어', 'マイナビ出版',\n",
       "       'BPBPublications', '정보문화사', '프로텍미디어', '에이콘출판', '오일러BOOKS',\n",
       "       '한빛아카데미', '성안북스', '책밥상', '북스홀릭퍼블리싱', '교학사', '이한출판사', '사이버출판사',\n",
       "       'ForDummies', '지코사이언스', '인터비젼', '기한재', '삼각형', 'Wiley-IEEEPress',\n",
       "       'JohnWiley&Sons', '중앙교육진흥연구소', '인포앤북', '다락원', '한국데이터진흥원',\n",
       "       '한국데이터산업진흥원', '앤써북', '디비안(DBian)', '책밥', 'PHP硏究所', '남가람북스',\n",
       "       'インプレス', 'BOOKK(부크크)', '자유아카데미', '황소걸음아카데미', '혜지원', '느린생각',\n",
       "       '내하출판사', '퍼플'], dtype=object)"
      ]
     },
     "execution_count": 28,
     "metadata": {},
     "output_type": "execute_result"
    }
   ],
   "source": [
    "df['출판사'].unique()"
   ]
  },
  {
   "cell_type": "code",
   "execution_count": 29,
   "id": "5e3bbc9e",
   "metadata": {},
   "outputs": [
    {
     "data": {
      "text/plain": [
       "76"
      ]
     },
     "execution_count": 29,
     "metadata": {},
     "output_type": "execute_result"
    }
   ],
   "source": [
    "len(df['출판사'].unique())"
   ]
  },
  {
   "cell_type": "code",
   "execution_count": 30,
   "id": "fe245d3e",
   "metadata": {
    "scrolled": true
   },
   "outputs": [
    {
     "data": {
      "text/plain": [
       "한빛미디어      29\n",
       "길벗         17\n",
       "위키북스       13\n",
       "PHP硏究所      9\n",
       "이지스퍼블리싱     9\n",
       "생능출판        8\n",
       "성안당         8\n",
       "에이콘출판       7\n",
       "Apress      6\n",
       "인피니티북스      5\n",
       "Name: 출판사, dtype: int64"
      ]
     },
     "execution_count": 30,
     "metadata": {},
     "output_type": "execute_result"
    }
   ],
   "source": [
    "df['출판사'].value_counts().head(10)"
   ]
  },
  {
   "cell_type": "code",
   "execution_count": 31,
   "id": "3740277a",
   "metadata": {},
   "outputs": [
    {
     "data": {
      "image/png": "[encoded data removed]",
      "text/plain": [
       "<Figure size 1080x432 with 1 Axes>"
      ]
     },
     "metadata": {
      "needs_background": "light"
     },
     "output_type": "display_data"
    }
   ],
   "source": [
    "plt.figure(figsize=(15,6))\n",
    "sns.countplot(\n",
    "    x=df[\"출판사\"], \n",
    "    data=df,\n",
    "    palette=\"RdYlGn\",\n",
    "    order=df[\"출판사\"].value_counts().head(10).index\n",
    ")\n",
    "plt.show()"
   ]
  },
  {
   "cell_type": "markdown",
   "id": "da22d57e",
   "metadata": {},
   "source": [
    "### [ 문제 5번 ] 2-4.  2020년-2021년 데이터와 2017-2019년 데이터 비교"
   ]
  },
  {
   "cell_type": "code",
   "execution_count": 32,
   "id": "31c3d2fb",
   "metadata": {
    "scrolled": true
   },
   "outputs": [
    {
     "name": "stdout",
     "output_type": "stream",
     "text": [
      "<class 'pandas.core.frame.DataFrame'>\n",
      "RangeIndex: 217 entries, 0 to 216\n",
      "Data columns (total 6 columns):\n",
      " #   Column  Non-Null Count  Dtype \n",
      "---  ------  --------------  ----- \n",
      " 0   제목      217 non-null    object\n",
      " 1   저자      217 non-null    object\n",
      " 2   출판사     217 non-null    object\n",
      " 3   출판일     217 non-null    object\n",
      " 4   ISBN    217 non-null    object\n",
      " 5   언어      217 non-null    object\n",
      "dtypes: object(6)\n",
      "memory usage: 10.3+ KB\n"
     ]
    }
   ],
   "source": [
    "# 데이터 타입 확인\n",
    "df.info()"
   ]
  },
  {
   "cell_type": "code",
   "execution_count": 33,
   "id": "bb7c3231",
   "metadata": {},
   "outputs": [],
   "source": [
    "# 이상치 수정\n",
    "df.loc[df['출판일'] == '20211000', '출판일'] = '20210909'"
   ]
  },
  {
   "cell_type": "code",
   "execution_count": 34,
   "id": "d18365ca",
   "metadata": {},
   "outputs": [
    {
     "ename": "ParserError",
     "evalue": "day is out of range for month: 20211200",
     "output_type": "error",
     "traceback": [
      "\u001b[0;31m---------------------------------------------------------------------------\u001b[0m",
      "\u001b[0;31mValueError\u001b[0m                                Traceback (most recent call last)",
      "\u001b[0;32m~/opt/miniconda3/envs/ds_study/lib/python3.8/site-packages/dateutil/parser/_parser.py\u001b[0m in \u001b[0;36mparse\u001b[0;34m(self, timestr, default, ignoretz, tzinfos, **kwargs)\u001b[0m\n\u001b[1;32m    648\u001b[0m         \u001b[0;32mtry\u001b[0m\u001b[0;34m:\u001b[0m\u001b[0;34m\u001b[0m\u001b[0;34m\u001b[0m\u001b[0m\n\u001b[0;32m--> 649\u001b[0;31m             \u001b[0mret\u001b[0m \u001b[0;34m=\u001b[0m \u001b[0mself\u001b[0m\u001b[0;34m.\u001b[0m\u001b[0m_build_naive\u001b[0m\u001b[0;34m(\u001b[0m\u001b[0mres\u001b[0m\u001b[0;34m,\u001b[0m \u001b[0mdefault\u001b[0m\u001b[0;34m)\u001b[0m\u001b[0;34m\u001b[0m\u001b[0;34m\u001b[0m\u001b[0m\n\u001b[0m\u001b[1;32m    650\u001b[0m         \u001b[0;32mexcept\u001b[0m \u001b[0mValueError\u001b[0m \u001b[0;32mas\u001b[0m \u001b[0me\u001b[0m\u001b[0;34m:\u001b[0m\u001b[0;34m\u001b[0m\u001b[0;34m\u001b[0m\u001b[0m\n",
      "\u001b[0;32m~/opt/miniconda3/envs/ds_study/lib/python3.8/site-packages/dateutil/parser/_parser.py\u001b[0m in \u001b[0;36m_build_naive\u001b[0;34m(self, res, default)\u001b[0m\n\u001b[1;32m   1234\u001b[0m \u001b[0;34m\u001b[0m\u001b[0m\n\u001b[0;32m-> 1235\u001b[0;31m         \u001b[0mnaive\u001b[0m \u001b[0;34m=\u001b[0m \u001b[0mdefault\u001b[0m\u001b[0;34m.\u001b[0m\u001b[0mreplace\u001b[0m\u001b[0;34m(\u001b[0m\u001b[0;34m**\u001b[0m\u001b[0mrepl\u001b[0m\u001b[0;34m)\u001b[0m\u001b[0;34m\u001b[0m\u001b[0;34m\u001b[0m\u001b[0m\n\u001b[0m\u001b[1;32m   1236\u001b[0m \u001b[0;34m\u001b[0m\u001b[0m\n",
      "\u001b[0;31mValueError\u001b[0m: day is out of range for month",
      "\nThe above exception was the direct cause of the following exception:\n",
      "\u001b[0;31mParserError\u001b[0m                               Traceback (most recent call last)",
      "\u001b[0;32m~/opt/miniconda3/envs/ds_study/lib/python3.8/site-packages/pandas/_libs/tslib.pyx\u001b[0m in \u001b[0;36mpandas._libs.tslib.array_to_datetime\u001b[0;34m()\u001b[0m\n",
      "\u001b[0;32m~/opt/miniconda3/envs/ds_study/lib/python3.8/site-packages/pandas/_libs/tslibs/parsing.pyx\u001b[0m in \u001b[0;36mpandas._libs.tslibs.parsing.parse_datetime_string\u001b[0;34m()\u001b[0m\n",
      "\u001b[0;32m~/opt/miniconda3/envs/ds_study/lib/python3.8/site-packages/dateutil/parser/_parser.py\u001b[0m in \u001b[0;36mparse\u001b[0;34m(timestr, parserinfo, **kwargs)\u001b[0m\n\u001b[1;32m   1367\u001b[0m     \u001b[0;32melse\u001b[0m\u001b[0;34m:\u001b[0m\u001b[0;34m\u001b[0m\u001b[0;34m\u001b[0m\u001b[0m\n\u001b[0;32m-> 1368\u001b[0;31m         \u001b[0;32mreturn\u001b[0m \u001b[0mDEFAULTPARSER\u001b[0m\u001b[0;34m.\u001b[0m\u001b[0mparse\u001b[0m\u001b[0;34m(\u001b[0m\u001b[0mtimestr\u001b[0m\u001b[0;34m,\u001b[0m \u001b[0;34m**\u001b[0m\u001b[0mkwargs\u001b[0m\u001b[0;34m)\u001b[0m\u001b[0;34m\u001b[0m\u001b[0;34m\u001b[0m\u001b[0m\n\u001b[0m\u001b[1;32m   1369\u001b[0m \u001b[0;34m\u001b[0m\u001b[0m\n",
      "\u001b[0;32m~/opt/miniconda3/envs/ds_study/lib/python3.8/site-packages/dateutil/parser/_parser.py\u001b[0m in \u001b[0;36mparse\u001b[0;34m(self, timestr, default, ignoretz, tzinfos, **kwargs)\u001b[0m\n\u001b[1;32m    650\u001b[0m         \u001b[0;32mexcept\u001b[0m \u001b[0mValueError\u001b[0m \u001b[0;32mas\u001b[0m \u001b[0me\u001b[0m\u001b[0;34m:\u001b[0m\u001b[0;34m\u001b[0m\u001b[0;34m\u001b[0m\u001b[0m\n\u001b[0;32m--> 651\u001b[0;31m             \u001b[0msix\u001b[0m\u001b[0;34m.\u001b[0m\u001b[0mraise_from\u001b[0m\u001b[0;34m(\u001b[0m\u001b[0mParserError\u001b[0m\u001b[0;34m(\u001b[0m\u001b[0mstr\u001b[0m\u001b[0;34m(\u001b[0m\u001b[0me\u001b[0m\u001b[0;34m)\u001b[0m \u001b[0;34m+\u001b[0m \u001b[0;34m\": %s\"\u001b[0m\u001b[0;34m,\u001b[0m \u001b[0mtimestr\u001b[0m\u001b[0;34m)\u001b[0m\u001b[0;34m,\u001b[0m \u001b[0me\u001b[0m\u001b[0;34m)\u001b[0m\u001b[0;34m\u001b[0m\u001b[0;34m\u001b[0m\u001b[0m\n\u001b[0m\u001b[1;32m    652\u001b[0m \u001b[0;34m\u001b[0m\u001b[0m\n",
      "\u001b[0;32m~/opt/miniconda3/envs/ds_study/lib/python3.8/site-packages/six.py\u001b[0m in \u001b[0;36mraise_from\u001b[0;34m(value, from_value)\u001b[0m\n",
      "\u001b[0;31mParserError\u001b[0m: day is out of range for month: 20211200",
      "\nDuring handling of the above exception, another exception occurred:\n",
      "\u001b[0;31mTypeError\u001b[0m                                 Traceback (most recent call last)",
      "\u001b[0;32m~/opt/miniconda3/envs/ds_study/lib/python3.8/site-packages/pandas/_libs/tslib.pyx\u001b[0m in \u001b[0;36mpandas._libs.tslib.array_to_datetime\u001b[0;34m()\u001b[0m\n",
      "\u001b[0;31mTypeError\u001b[0m: invalid string coercion to datetime",
      "\nDuring handling of the above exception, another exception occurred:\n",
      "\u001b[0;31mValueError\u001b[0m                                Traceback (most recent call last)",
      "\u001b[0;32m~/opt/miniconda3/envs/ds_study/lib/python3.8/site-packages/dateutil/parser/_parser.py\u001b[0m in \u001b[0;36mparse\u001b[0;34m(self, timestr, default, ignoretz, tzinfos, **kwargs)\u001b[0m\n\u001b[1;32m    648\u001b[0m         \u001b[0;32mtry\u001b[0m\u001b[0;34m:\u001b[0m\u001b[0;34m\u001b[0m\u001b[0;34m\u001b[0m\u001b[0m\n\u001b[0;32m--> 649\u001b[0;31m             \u001b[0mret\u001b[0m \u001b[0;34m=\u001b[0m \u001b[0mself\u001b[0m\u001b[0;34m.\u001b[0m\u001b[0m_build_naive\u001b[0m\u001b[0;34m(\u001b[0m\u001b[0mres\u001b[0m\u001b[0;34m,\u001b[0m \u001b[0mdefault\u001b[0m\u001b[0;34m)\u001b[0m\u001b[0;34m\u001b[0m\u001b[0;34m\u001b[0m\u001b[0m\n\u001b[0m\u001b[1;32m    650\u001b[0m         \u001b[0;32mexcept\u001b[0m \u001b[0mValueError\u001b[0m \u001b[0;32mas\u001b[0m \u001b[0me\u001b[0m\u001b[0;34m:\u001b[0m\u001b[0;34m\u001b[0m\u001b[0;34m\u001b[0m\u001b[0m\n",
      "\u001b[0;32m~/opt/miniconda3/envs/ds_study/lib/python3.8/site-packages/dateutil/parser/_parser.py\u001b[0m in \u001b[0;36m_build_naive\u001b[0;34m(self, res, default)\u001b[0m\n\u001b[1;32m   1234\u001b[0m \u001b[0;34m\u001b[0m\u001b[0m\n\u001b[0;32m-> 1235\u001b[0;31m         \u001b[0mnaive\u001b[0m \u001b[0;34m=\u001b[0m \u001b[0mdefault\u001b[0m\u001b[0;34m.\u001b[0m\u001b[0mreplace\u001b[0m\u001b[0;34m(\u001b[0m\u001b[0;34m**\u001b[0m\u001b[0mrepl\u001b[0m\u001b[0;34m)\u001b[0m\u001b[0;34m\u001b[0m\u001b[0;34m\u001b[0m\u001b[0m\n\u001b[0m\u001b[1;32m   1236\u001b[0m \u001b[0;34m\u001b[0m\u001b[0m\n",
      "\u001b[0;31mValueError\u001b[0m: day is out of range for month",
      "\nThe above exception was the direct cause of the following exception:\n",
      "\u001b[0;31mParserError\u001b[0m                               Traceback (most recent call last)",
      "\u001b[0;32m/var/folders/gf/1wy4qmls29s55pmzc_dpkgtr0000gn/T/ipykernel_5242/1795696047.py\u001b[0m in \u001b[0;36m<module>\u001b[0;34m\u001b[0m\n\u001b[1;32m      1\u001b[0m \u001b[0;31m# 데이터 타입을 문자열 => 날짜 타입으로 변경\u001b[0m\u001b[0;34m\u001b[0m\u001b[0;34m\u001b[0m\u001b[0;34m\u001b[0m\u001b[0m\n\u001b[0;32m----> 2\u001b[0;31m \u001b[0mdf\u001b[0m\u001b[0;34m[\u001b[0m\u001b[0;34m'출판일'\u001b[0m\u001b[0;34m]\u001b[0m \u001b[0;34m=\u001b[0m \u001b[0mpd\u001b[0m\u001b[0;34m.\u001b[0m\u001b[0mto_datetime\u001b[0m\u001b[0;34m(\u001b[0m\u001b[0mdf\u001b[0m\u001b[0;34m[\u001b[0m\u001b[0;34m'출판일'\u001b[0m\u001b[0;34m]\u001b[0m\u001b[0;34m)\u001b[0m\u001b[0;34m\u001b[0m\u001b[0;34m\u001b[0m\u001b[0m\n\u001b[0m",
      "\u001b[0;32m~/opt/miniconda3/envs/ds_study/lib/python3.8/site-packages/pandas/core/tools/datetimes.py\u001b[0m in \u001b[0;36mto_datetime\u001b[0;34m(arg, errors, dayfirst, yearfirst, utc, format, exact, unit, infer_datetime_format, origin, cache)\u001b[0m\n\u001b[1;32m    885\u001b[0m             \u001b[0mresult\u001b[0m \u001b[0;34m=\u001b[0m \u001b[0marg\u001b[0m\u001b[0;34m.\u001b[0m\u001b[0mmap\u001b[0m\u001b[0;34m(\u001b[0m\u001b[0mcache_array\u001b[0m\u001b[0;34m)\u001b[0m\u001b[0;34m\u001b[0m\u001b[0;34m\u001b[0m\u001b[0m\n\u001b[1;32m    886\u001b[0m         \u001b[0;32melse\u001b[0m\u001b[0;34m:\u001b[0m\u001b[0;34m\u001b[0m\u001b[0;34m\u001b[0m\u001b[0m\n\u001b[0;32m--> 887\u001b[0;31m             \u001b[0mvalues\u001b[0m \u001b[0;34m=\u001b[0m \u001b[0mconvert_listlike\u001b[0m\u001b[0;34m(\u001b[0m\u001b[0marg\u001b[0m\u001b[0;34m.\u001b[0m\u001b[0m_values\u001b[0m\u001b[0;34m,\u001b[0m \u001b[0mformat\u001b[0m\u001b[0;34m)\u001b[0m\u001b[0;34m\u001b[0m\u001b[0;34m\u001b[0m\u001b[0m\n\u001b[0m\u001b[1;32m    888\u001b[0m             \u001b[0mresult\u001b[0m \u001b[0;34m=\u001b[0m \u001b[0marg\u001b[0m\u001b[0;34m.\u001b[0m\u001b[0m_constructor\u001b[0m\u001b[0;34m(\u001b[0m\u001b[0mvalues\u001b[0m\u001b[0;34m,\u001b[0m \u001b[0mindex\u001b[0m\u001b[0;34m=\u001b[0m\u001b[0marg\u001b[0m\u001b[0;34m.\u001b[0m\u001b[0mindex\u001b[0m\u001b[0;34m,\u001b[0m \u001b[0mname\u001b[0m\u001b[0;34m=\u001b[0m\u001b[0marg\u001b[0m\u001b[0;34m.\u001b[0m\u001b[0mname\u001b[0m\u001b[0;34m)\u001b[0m\u001b[0;34m\u001b[0m\u001b[0;34m\u001b[0m\u001b[0m\n\u001b[1;32m    889\u001b[0m     \u001b[0;32melif\u001b[0m \u001b[0misinstance\u001b[0m\u001b[0;34m(\u001b[0m\u001b[0marg\u001b[0m\u001b[0;34m,\u001b[0m \u001b[0;34m(\u001b[0m\u001b[0mABCDataFrame\u001b[0m\u001b[0;34m,\u001b[0m \u001b[0mabc\u001b[0m\u001b[0;34m.\u001b[0m\u001b[0mMutableMapping\u001b[0m\u001b[0;34m)\u001b[0m\u001b[0;34m)\u001b[0m\u001b[0;34m:\u001b[0m\u001b[0;34m\u001b[0m\u001b[0;34m\u001b[0m\u001b[0m\n",
      "\u001b[0;32m~/opt/miniconda3/envs/ds_study/lib/python3.8/site-packages/pandas/core/tools/datetimes.py\u001b[0m in \u001b[0;36m_convert_listlike_datetimes\u001b[0;34m(arg, format, name, tz, unit, errors, infer_datetime_format, dayfirst, yearfirst, exact)\u001b[0m\n\u001b[1;32m    399\u001b[0m     \u001b[0;32massert\u001b[0m \u001b[0mformat\u001b[0m \u001b[0;32mis\u001b[0m \u001b[0;32mNone\u001b[0m \u001b[0;32mor\u001b[0m \u001b[0minfer_datetime_format\u001b[0m\u001b[0;34m\u001b[0m\u001b[0;34m\u001b[0m\u001b[0m\n\u001b[1;32m    400\u001b[0m     \u001b[0mutc\u001b[0m \u001b[0;34m=\u001b[0m \u001b[0mtz\u001b[0m \u001b[0;34m==\u001b[0m \u001b[0;34m\"utc\"\u001b[0m\u001b[0;34m\u001b[0m\u001b[0;34m\u001b[0m\u001b[0m\n\u001b[0;32m--> 401\u001b[0;31m     result, tz_parsed = objects_to_datetime64ns(\n\u001b[0m\u001b[1;32m    402\u001b[0m         \u001b[0marg\u001b[0m\u001b[0;34m,\u001b[0m\u001b[0;34m\u001b[0m\u001b[0;34m\u001b[0m\u001b[0m\n\u001b[1;32m    403\u001b[0m         \u001b[0mdayfirst\u001b[0m\u001b[0;34m=\u001b[0m\u001b[0mdayfirst\u001b[0m\u001b[0;34m,\u001b[0m\u001b[0;34m\u001b[0m\u001b[0;34m\u001b[0m\u001b[0m\n",
      "\u001b[0;32m~/opt/miniconda3/envs/ds_study/lib/python3.8/site-packages/pandas/core/arrays/datetimes.py\u001b[0m in \u001b[0;36mobjects_to_datetime64ns\u001b[0;34m(data, dayfirst, yearfirst, utc, errors, require_iso8601, allow_object, allow_mixed)\u001b[0m\n\u001b[1;32m   2191\u001b[0m             \u001b[0;32mreturn\u001b[0m \u001b[0mvalues\u001b[0m\u001b[0;34m.\u001b[0m\u001b[0mview\u001b[0m\u001b[0;34m(\u001b[0m\u001b[0;34m\"i8\"\u001b[0m\u001b[0;34m)\u001b[0m\u001b[0;34m,\u001b[0m \u001b[0mtz_parsed\u001b[0m\u001b[0;34m\u001b[0m\u001b[0;34m\u001b[0m\u001b[0m\n\u001b[1;32m   2192\u001b[0m         \u001b[0;32mexcept\u001b[0m \u001b[0;34m(\u001b[0m\u001b[0mValueError\u001b[0m\u001b[0;34m,\u001b[0m \u001b[0mTypeError\u001b[0m\u001b[0;34m)\u001b[0m\u001b[0;34m:\u001b[0m\u001b[0;34m\u001b[0m\u001b[0;34m\u001b[0m\u001b[0m\n\u001b[0;32m-> 2193\u001b[0;31m             \u001b[0;32mraise\u001b[0m \u001b[0merr\u001b[0m\u001b[0;34m\u001b[0m\u001b[0;34m\u001b[0m\u001b[0m\n\u001b[0m\u001b[1;32m   2194\u001b[0m \u001b[0;34m\u001b[0m\u001b[0m\n\u001b[1;32m   2195\u001b[0m     \u001b[0;32mif\u001b[0m \u001b[0mtz_parsed\u001b[0m \u001b[0;32mis\u001b[0m \u001b[0;32mnot\u001b[0m \u001b[0;32mNone\u001b[0m\u001b[0;34m:\u001b[0m\u001b[0;34m\u001b[0m\u001b[0;34m\u001b[0m\u001b[0m\n",
      "\u001b[0;32m~/opt/miniconda3/envs/ds_study/lib/python3.8/site-packages/pandas/core/arrays/datetimes.py\u001b[0m in \u001b[0;36mobjects_to_datetime64ns\u001b[0;34m(data, dayfirst, yearfirst, utc, errors, require_iso8601, allow_object, allow_mixed)\u001b[0m\n\u001b[1;32m   2173\u001b[0m     \u001b[0morder\u001b[0m\u001b[0;34m:\u001b[0m \u001b[0mLiteral\u001b[0m\u001b[0;34m[\u001b[0m\u001b[0;34m\"F\"\u001b[0m\u001b[0;34m,\u001b[0m \u001b[0;34m\"C\"\u001b[0m\u001b[0;34m]\u001b[0m \u001b[0;34m=\u001b[0m \u001b[0;34m\"F\"\u001b[0m \u001b[0;32mif\u001b[0m \u001b[0mflags\u001b[0m\u001b[0;34m.\u001b[0m\u001b[0mf_contiguous\u001b[0m \u001b[0;32melse\u001b[0m \u001b[0;34m\"C\"\u001b[0m\u001b[0;34m\u001b[0m\u001b[0;34m\u001b[0m\u001b[0m\n\u001b[1;32m   2174\u001b[0m     \u001b[0;32mtry\u001b[0m\u001b[0;34m:\u001b[0m\u001b[0;34m\u001b[0m\u001b[0;34m\u001b[0m\u001b[0m\n\u001b[0;32m-> 2175\u001b[0;31m         result, tz_parsed = tslib.array_to_datetime(\n\u001b[0m\u001b[1;32m   2176\u001b[0m             \u001b[0mdata\u001b[0m\u001b[0;34m.\u001b[0m\u001b[0mravel\u001b[0m\u001b[0;34m(\u001b[0m\u001b[0;34m\"K\"\u001b[0m\u001b[0;34m)\u001b[0m\u001b[0;34m,\u001b[0m\u001b[0;34m\u001b[0m\u001b[0;34m\u001b[0m\u001b[0m\n\u001b[1;32m   2177\u001b[0m             \u001b[0merrors\u001b[0m\u001b[0;34m=\u001b[0m\u001b[0merrors\u001b[0m\u001b[0;34m,\u001b[0m\u001b[0;34m\u001b[0m\u001b[0;34m\u001b[0m\u001b[0m\n",
      "\u001b[0;32m~/opt/miniconda3/envs/ds_study/lib/python3.8/site-packages/pandas/_libs/tslib.pyx\u001b[0m in \u001b[0;36mpandas._libs.tslib.array_to_datetime\u001b[0;34m()\u001b[0m\n",
      "\u001b[0;32m~/opt/miniconda3/envs/ds_study/lib/python3.8/site-packages/pandas/_libs/tslib.pyx\u001b[0m in \u001b[0;36mpandas._libs.tslib.array_to_datetime\u001b[0;34m()\u001b[0m\n",
      "\u001b[0;32m~/opt/miniconda3/envs/ds_study/lib/python3.8/site-packages/pandas/_libs/tslib.pyx\u001b[0m in \u001b[0;36mpandas._libs.tslib._array_to_datetime_object\u001b[0;34m()\u001b[0m\n",
      "\u001b[0;32m~/opt/miniconda3/envs/ds_study/lib/python3.8/site-packages/pandas/_libs/tslib.pyx\u001b[0m in \u001b[0;36mpandas._libs.tslib._array_to_datetime_object\u001b[0;34m()\u001b[0m\n",
      "\u001b[0;32m~/opt/miniconda3/envs/ds_study/lib/python3.8/site-packages/pandas/_libs/tslibs/parsing.pyx\u001b[0m in \u001b[0;36mpandas._libs.tslibs.parsing.parse_datetime_string\u001b[0;34m()\u001b[0m\n",
      "\u001b[0;32m~/opt/miniconda3/envs/ds_study/lib/python3.8/site-packages/dateutil/parser/_parser.py\u001b[0m in \u001b[0;36mparse\u001b[0;34m(timestr, parserinfo, **kwargs)\u001b[0m\n\u001b[1;32m   1366\u001b[0m         \u001b[0;32mreturn\u001b[0m \u001b[0mparser\u001b[0m\u001b[0;34m(\u001b[0m\u001b[0mparserinfo\u001b[0m\u001b[0;34m)\u001b[0m\u001b[0;34m.\u001b[0m\u001b[0mparse\u001b[0m\u001b[0;34m(\u001b[0m\u001b[0mtimestr\u001b[0m\u001b[0;34m,\u001b[0m \u001b[0;34m**\u001b[0m\u001b[0mkwargs\u001b[0m\u001b[0;34m)\u001b[0m\u001b[0;34m\u001b[0m\u001b[0;34m\u001b[0m\u001b[0m\n\u001b[1;32m   1367\u001b[0m     \u001b[0;32melse\u001b[0m\u001b[0;34m:\u001b[0m\u001b[0;34m\u001b[0m\u001b[0;34m\u001b[0m\u001b[0m\n\u001b[0;32m-> 1368\u001b[0;31m         \u001b[0;32mreturn\u001b[0m \u001b[0mDEFAULTPARSER\u001b[0m\u001b[0;34m.\u001b[0m\u001b[0mparse\u001b[0m\u001b[0;34m(\u001b[0m\u001b[0mtimestr\u001b[0m\u001b[0;34m,\u001b[0m \u001b[0;34m**\u001b[0m\u001b[0mkwargs\u001b[0m\u001b[0;34m)\u001b[0m\u001b[0;34m\u001b[0m\u001b[0;34m\u001b[0m\u001b[0m\n\u001b[0m\u001b[1;32m   1369\u001b[0m \u001b[0;34m\u001b[0m\u001b[0m\n\u001b[1;32m   1370\u001b[0m \u001b[0;34m\u001b[0m\u001b[0m\n",
      "\u001b[0;32m~/opt/miniconda3/envs/ds_study/lib/python3.8/site-packages/dateutil/parser/_parser.py\u001b[0m in \u001b[0;36mparse\u001b[0;34m(self, timestr, default, ignoretz, tzinfos, **kwargs)\u001b[0m\n\u001b[1;32m    649\u001b[0m             \u001b[0mret\u001b[0m \u001b[0;34m=\u001b[0m \u001b[0mself\u001b[0m\u001b[0;34m.\u001b[0m\u001b[0m_build_naive\u001b[0m\u001b[0;34m(\u001b[0m\u001b[0mres\u001b[0m\u001b[0;34m,\u001b[0m \u001b[0mdefault\u001b[0m\u001b[0;34m)\u001b[0m\u001b[0;34m\u001b[0m\u001b[0;34m\u001b[0m\u001b[0m\n\u001b[1;32m    650\u001b[0m         \u001b[0;32mexcept\u001b[0m \u001b[0mValueError\u001b[0m \u001b[0;32mas\u001b[0m \u001b[0me\u001b[0m\u001b[0;34m:\u001b[0m\u001b[0;34m\u001b[0m\u001b[0;34m\u001b[0m\u001b[0m\n\u001b[0;32m--> 651\u001b[0;31m             \u001b[0msix\u001b[0m\u001b[0;34m.\u001b[0m\u001b[0mraise_from\u001b[0m\u001b[0;34m(\u001b[0m\u001b[0mParserError\u001b[0m\u001b[0;34m(\u001b[0m\u001b[0mstr\u001b[0m\u001b[0;34m(\u001b[0m\u001b[0me\u001b[0m\u001b[0;34m)\u001b[0m \u001b[0;34m+\u001b[0m \u001b[0;34m\": %s\"\u001b[0m\u001b[0;34m,\u001b[0m \u001b[0mtimestr\u001b[0m\u001b[0;34m)\u001b[0m\u001b[0;34m,\u001b[0m \u001b[0me\u001b[0m\u001b[0;34m)\u001b[0m\u001b[0;34m\u001b[0m\u001b[0;34m\u001b[0m\u001b[0m\n\u001b[0m\u001b[1;32m    652\u001b[0m \u001b[0;34m\u001b[0m\u001b[0m\n\u001b[1;32m    653\u001b[0m         \u001b[0;32mif\u001b[0m \u001b[0;32mnot\u001b[0m \u001b[0mignoretz\u001b[0m\u001b[0;34m:\u001b[0m\u001b[0;34m\u001b[0m\u001b[0;34m\u001b[0m\u001b[0m\n",
      "\u001b[0;32m~/opt/miniconda3/envs/ds_study/lib/python3.8/site-packages/six.py\u001b[0m in \u001b[0;36mraise_from\u001b[0;34m(value, from_value)\u001b[0m\n",
      "\u001b[0;31mParserError\u001b[0m: day is out of range for month: 20211200"
     ]
    }
   ],
   "source": [
    "# 데이터 타입을 문자열 => 날짜 타입으로 변경\n",
    "df['출판일'] = pd.to_datetime(df['출판일'])"
   ]
  },
  {
   "cell_type": "code",
   "execution_count": null,
   "id": "882f88b1",
   "metadata": {},
   "outputs": [],
   "source": [
    "df.info()"
   ]
  },
  {
   "cell_type": "code",
   "execution_count": null,
   "id": "0f8f48d4",
   "metadata": {},
   "outputs": [],
   "source": [
    "df.head()"
   ]
  },
  {
   "cell_type": "code",
   "execution_count": null,
   "id": "7bbe62f3",
   "metadata": {},
   "outputs": [],
   "source": [
    "df[df['출판일'] >= '2020-01-01']"
   ]
  },
  {
   "cell_type": "markdown",
   "id": "5cd9a16e",
   "metadata": {},
   "source": [
    "#### 2020-2021년 프로그래밍 언어별 출판물 데이터 시각화"
   ]
  },
  {
   "cell_type": "code",
   "execution_count": null,
   "id": "732b24ab",
   "metadata": {
    "scrolled": true
   },
   "outputs": [],
   "source": [
    "plt.figure(figsize=(15,6))\n",
    "sns.countplot(\n",
    "    x=df[df['출판일'] >= '2020-01-01']['언어'], \n",
    "    data=df,\n",
    "    palette=\"RdYlGn\",\n",
    "    order=df[df['출판일'] >= '2020-01-01']['언어'].value_counts().index\n",
    ")\n",
    "plt.show()"
   ]
  },
  {
   "cell_type": "code",
   "execution_count": null,
   "id": "f8cc79e7",
   "metadata": {},
   "outputs": [],
   "source": [
    "df[(df['출판일'] >= '2017-01-01') & (df['출판일'] <= '2019-12-31')]"
   ]
  },
  {
   "cell_type": "markdown",
   "id": "05a53358",
   "metadata": {},
   "source": [
    "#### 2017-2019년 프로그래밍 언어별 출판물수 시각화 "
   ]
  },
  {
   "cell_type": "code",
   "execution_count": null,
   "id": "dfd44086",
   "metadata": {},
   "outputs": [],
   "source": [
    "plt.figure(figsize=(15,6))\n",
    "sns.countplot(\n",
    "    x=df[(df['출판일'] >= '2017-01-01') & (df['출판일'] <= '2019-12-31')]['언어'], \n",
    "    data=df,\n",
    "    palette=\"RdYlGn\",\n",
    "    order=df[(df['출판일'] >= '2017-01-01') & (df['출판일'] <= '2019-12-31')]['언어'].value_counts().index\n",
    ")\n",
    "plt.show()"
   ]
  },
  {
   "cell_type": "markdown",
   "id": "be56cd6e",
   "metadata": {},
   "source": [
    "## 3. 정리 및 결론"
   ]
  },
  {
   "cell_type": "markdown",
   "id": "f7bd1897",
   "metadata": {},
   "source": [
    "- 분석 데이터는 각 언어별 상위 20권의 책을 기준으로 Naver 책 검색 API를 통해 수집하였습니다.\n",
    "- 수집 대상 데이터를 각 언어별 상위 20권으로 제한한 것은, 검색 결과의 첫 페이지에 나타나는 20권의 책이 사람들이 실질적으로 구매할만한 도서 후보군이라고 판단했기 때문입니다.\n",
    "- 컴퓨터 프로그래밍 언어별 출판물 수는 PHP, Java, C언어 순으로 많았습니다.\n",
    "- 출판물 양을 기준으로 한 우리나라의 컴퓨터 언어 관련 출판사 순위는 한빛미디어, 길벗, 위키북스 순으로 나타났습니다.\n",
    "- 전체 데이터를 2020년을 기준으로 분류했을 때, 2020-2021년 사이에 출판물이 많았던 언어는 파이썬, PHP, C#이었습니다. \n",
    "- 2017년부터 2019년 사이에 많이 출판된 프로그래밍 언어가 R, C언어, Java였던 것을 고려하면 최근 2년 사이에 인기있는 프로그래밍 언어 순위에 커다란 변화가 있었음을 알 수 있습니다."
   ]
  },
  {
   "cell_type": "markdown",
   "id": "1b000688",
   "metadata": {},
   "source": [
    "| 언어   | 2017-2019년 순위    | 2020-2021년 순위 |\n",
    "|------ |-------------------| ----------------|\n",
    "| Python| 7위                | 1위 |\n",
    "| C     | 2위                | 7위 |\n",
    "| Java  | 3위                | 6위 |\n",
    "| C++   | 4위                | 8위 |\n",
    "| C#    | 6위                | 3위 |\n",
    "| Visual Basic  | 9위        | 10위 |\n",
    "| JavaScript  | 5위          | 5위 |\n",
    "| SQL   | 8위                | 4위 |\n",
    "| PHP   | 10위               | 2위 |\n",
    "| R     | 1위                | 9위 |"
   ]
  },
  {
   "cell_type": "markdown",
   "id": "c01a5ada",
   "metadata": {},
   "source": [
    "- 특히 7위였던 파이썬이 1위로 올라서고, 10위였던 PHP가 2위로 급상승한 것이 가장 눈에 띄는 변화입니다.\n",
    "- 기존에 1위였던 R이 최근 9위로 떨어지고, 2위였던 C언어가 7위로 추락한 것도 주목할만한 부분입니다.\n",
    "- 비교적 배우기 어려운 C언어의 인기가 줄어든 것은 이해할만한 부분이지만, 데이터사이언스 분야의 대표적인 프로그래밍 언어인 R의 순위가 크게 떨어진 요인은 현재 데이터에서 추론하기 어렵습니다.\n",
    "<br>\n",
    "- 전체적인 출판물 수가 대폭 늘어난 것도 커다란 변화였습니다.\n",
    "- 2017-2019년 순위에서 1등이었던 R의 출판물 수가 8건에 불과했던 반면, 2020-2021년 순위에서 1등인 파이썬의 경우 출판물 수가 35건에 달합니다.\n",
    "- 2020-2021년 사이에는 5등 이상의 프로그래밍 언어 출판물이 모두 10건 이상인 것을 통해 추론했을 때, 출판 시장에 프로그래밍 언어 관련 책에 대한 수요가 그 만큼 늘어났다는 것을 알 수 있습니다."
   ]
  },
  {
   "cell_type": "code",
   "execution_count": null,
   "id": "3dd3875f",
   "metadata": {},
   "outputs": [],
   "source": []
  }
 ],
 "metadata": {
  "kernelspec": {
   "display_name": "Python 3 (ipykernel)",
   "language": "python",
   "name": "python3"
  },
  "language_info": {
   "codemirror_mode": {
    "name": "ipython",
    "version": 3
   },
   "file_extension": ".py",
   "mimetype": "text/x-python",
   "name": "python",
   "nbconvert_exporter": "python",
   "pygments_lexer": "ipython3",
   "version": "3.8.11"
  }
 },
 "nbformat": 4,
 "nbformat_minor": 5
}
